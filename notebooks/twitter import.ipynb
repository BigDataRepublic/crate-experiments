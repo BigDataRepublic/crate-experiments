{
 "cells": [
  {
   "cell_type": "markdown",
   "metadata": {},
   "source": [
    "Read tweets into crate\n",
    "=========\n",
    "This requires an HTTP interface to crate running at [http://localhost:4200](http://localhost:4200)"
   ]
  },
  {
   "cell_type": "code",
   "execution_count": 9,
   "metadata": {
    "collapsed": true
   },
   "outputs": [],
   "source": [
    "import json\n",
    "import configparser\n",
    "from twitter import Twitter, OAuth, TwitterHTTPError, TwitterStream\n",
    "import itertools\n",
    "from sqlalchemy import create_engine"
   ]
  },
  {
   "cell_type": "code",
   "execution_count": 10,
   "metadata": {
    "collapsed": true
   },
   "outputs": [],
   "source": [
    "#Load authentication \n",
    "config = configparser.ConfigParser()\n",
    "with open('twitter_secrets.ini', 'r') as configfile:\n",
    "    config.read_file(configfile)\n",
    "\n",
    "\n",
    "oauth = OAuth(config['twitter']['ACCESS_TOKEN'],\n",
    "              config['twitter']['ACCESS_SECRET'],\n",
    "              config['twitter']['CONSUMER_KEY'],\n",
    "              config['twitter']['CONSUMER_SECRET'])"
   ]
  },
  {
   "cell_type": "code",
   "execution_count": 11,
   "metadata": {
    "collapsed": true
   },
   "outputs": [],
   "source": [
    "#Create table if not exists\n",
    "db = create_engine( 'crate://', connect_args={ 'servers': [\"http://localhost:4200\"], }, )\n",
    "db.execute(\"create table if not exists tweets(id string, name string, text string)\").close()"
   ]
  },
  {
   "cell_type": "code",
   "execution_count": 12,
   "metadata": {
    "collapsed": false
   },
   "outputs": [],
   "source": [
    "from sqlalchemy.sql import text\n",
    "insertSql = text(\"insert into tweets values(:id, :name, :text)\")"
   ]
  },
  {
   "cell_type": "code",
   "execution_count": 18,
   "metadata": {
    "collapsed": false
   },
   "outputs": [
    {
     "name": "stdout",
     "output_type": "stream",
     "text": [
      "Inserting from  Laloush\n",
      "Inserting from  cyrineanour_leb\n",
      "Inserting from  sara azad\n",
      "Inserting from  Jayrod\n",
      "Inserting from  La La La\n",
      "Inserting from  Pretah 💁🏽\n",
      "Inserting from  Lulú\n",
      "Inserting from  xanria\n",
      "Inserting from  عسيى الجمعة\n",
      "Inserting from  ALFAIFIHYA\n",
      "Inserting from  Alison\n",
      "Inserting from  صالح بن محمد آل صالح\n",
      "Inserting from  NildaLR\n",
      "Inserting from  ｂｒｅｅｚｅ\n",
      "Inserting from  الحمدلله☘️\n",
      "Inserting from  tiziana\n",
      "Inserting from  أبو بندر\n",
      "Inserting from  tyrrell muhammad\n",
      "Inserting from  brabo\n",
      "Inserting from  Amanda Hanusch-Moore\n",
      "Inserting from  Sala7\n",
      "Inserting from  ヘキサファイア\n",
      "Inserting from  dan the chatter box\n",
      "Inserting from  jorge\n",
      "Inserting from  Snap : Warex45\n",
      "Inserting from  RUNMFD\n",
      "Inserting from  malcolm x af 👽\n",
      "Inserting from  Talía Nieto\n",
      "Inserting from  OFDP LIVRO SIM °˖✧\n",
      "Inserting from  Poirot Hercule\n",
      "Inserting from  Messou Le CHE\n",
      "Inserting from  綴希。@ちょっと頭変な人。\n",
      "Inserting from  Amy Simpson\n",
      "Inserting from  cindy\n",
      "Inserting from  char #teamorange 🍊\n",
      "Inserting from  アーサー\n",
      "Inserting from  Bassment Music RSA\n",
      "Inserting from  Ⴋㄘʓ\n",
      "Inserting from  مشعل العازمي //\n",
      "Inserting from  génesis matamoros.🌟\n",
      "Inserting from  facu vissani\n",
      "Inserting from  Stephen Ridett\n",
      "Inserting from  Serdar Çelik\n",
      "Inserting from  Fabian Reyna\n",
      "Inserting from  Emily Cooper\n",
      "Inserting from  Shaun Chaiyabhat\n",
      "Inserting from  serena\n",
      "Inserting from  👑prince jin👑\n",
      "Inserting from  •()•\n",
      "Inserting from  ġäļaxy\n",
      "Inserting from  soff🍓\n",
      "Inserting from  hey beau\n",
      "Inserting from  rh alazwo\n",
      "Inserting from  Q.T. Foot He-Who\n",
      "Inserting from  suplierchino\n",
      "Inserting from  D. B. Gardner\n",
      "Inserting from  UASLP\n",
      "Inserting from  Con Gusto\n",
      "Inserting from  faten -kuwait🇰🇼\n",
      "Inserting from  Jo_Bunny\n",
      "Inserting from  grace👑\n",
      "Inserting from  giovana\n",
      "Inserting from  ﴿إِيّــڤان|طِفلة ☾ .\n",
      "Inserting from  WãrDä WïWî\n",
      "Inserting from  ビタミン☆\n",
      "Inserting from  شموخ\n",
      "Inserting from  lau\n",
      "Inserting from  강마에\n",
      "Inserting from  Sa'eed S Z\n",
      "Inserting from  O123\n",
      "Inserting from  Graham Woods\n",
      "Inserting from  kioschinos3\n",
      "Inserting from  ElprincWalid\n",
      "Inserting from  袖なんです。\n",
      "Inserting from  yeeun.\n",
      "Inserting from  사공 단\n",
      "Inserting from  ابو أركان الهدى\n",
      "Inserting from  T-Mac\n",
      "Inserting from  David Rosowsky\n",
      "Inserting from  حلاوة الشحي.\n",
      "Inserting from  isadoodle 🍤\n",
      "Inserting from  かまどか秋葉原電気街口\n",
      "Inserting from  angel\n",
      "Inserting from  fahadalroomi\n",
      "Inserting from  😛\n",
      "Inserting from  المهــرهـ 👑\n",
      "Inserting from  💚\n",
      "Inserting from  Rawklion\n"
     ]
    }
   ],
   "source": [
    "# Initiate the connection to Twitter Streaming API\n",
    "twitterStream = TwitterStream(auth=oauth)\n",
    "\n",
    "samples = twitterStream.statuses.sample()\n",
    "for tweet in itertools.islice(samples, 100):\n",
    "    if ('user' in tweet) and ('id_str' in tweet) and ('text' in tweet):\n",
    "        print(\"Inserting from \", tweet['user']['name'])\n",
    "        db.execute(insertSql, id=tweet['id_str'], name=tweet['user']['name'], text=tweet['text'])\n",
    "\n",
    "twitterStream.close()"
   ]
  }
 ],
 "metadata": {
  "kernelspec": {
   "display_name": "Python 3",
   "language": "python",
   "name": "python3"
  },
  "language_info": {
   "codemirror_mode": {
    "name": "ipython",
    "version": 3
   },
   "file_extension": ".py",
   "mimetype": "text/x-python",
   "name": "python",
   "nbconvert_exporter": "python",
   "pygments_lexer": "ipython3",
   "version": "3.6.0"
  }
 },
 "nbformat": 4,
 "nbformat_minor": 2
}
